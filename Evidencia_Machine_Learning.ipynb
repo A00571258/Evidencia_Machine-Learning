{
  "nbformat": 4,
  "nbformat_minor": 0,
  "metadata": {
    "colab": {
      "name": "Evidencia_Machine Learning",
      "provenance": [],
      "collapsed_sections": [],
      "authorship_tag": "ABX9TyPfP4i1JQIC5koJ3AdJMAdA",
      "include_colab_link": true
    },
    "kernelspec": {
      "name": "python3",
      "display_name": "Python 3"
    },
    "language_info": {
      "name": "python"
    }
  },
  "cells": [
    {
      "cell_type": "markdown",
      "metadata": {
        "id": "view-in-github",
        "colab_type": "text"
      },
      "source": [
        "<a href=\"https://colab.research.google.com/github/A00571258/Evidencia_Machine-Learning/blob/evidencia-1/Evidencia_Machine_Learning.ipynb\" target=\"_parent\"><img src=\"https://colab.research.google.com/assets/colab-badge.svg\" alt=\"Open In Colab\"/></a>"
      ]
    },
    {
      "cell_type": "code",
      "execution_count": 1,
      "metadata": {
        "colab": {
          "base_uri": "https://localhost:8080/"
        },
        "id": "vNaFhYhPtkH-",
        "outputId": "9eaae6bb-b42b-4af4-f87c-de12f7cd030b"
      },
      "outputs": [
        {
          "output_type": "stream",
          "name": "stdout",
          "text": [
            "Mounted at /content/drive\n"
          ]
        }
      ],
      "source": [
        "from google.colab import drive\n",
        "drive.mount('/content/drive')"
      ]
    },
    {
      "cell_type": "code",
      "source": [
        "#put your own path in google drive\n",
        "%cd \"/content/drive/MyDrive/Ciencia de datos/Aprendizaje Maquina\"\n",
        "!ls"
      ],
      "metadata": {
        "colab": {
          "base_uri": "https://localhost:8080/"
        },
        "id": "fIo7XrXHuan-",
        "outputId": "99a38ba8-d77e-48b5-d328-799695c33ceb"
      },
      "execution_count": 2,
      "outputs": [
        {
          "output_type": "stream",
          "name": "stdout",
          "text": [
            "/content/drive/MyDrive/Ciencia de datos/Aprendizaje Maquina\n",
            "'17 Agosto.ipynb'\t\t    'Sesión 2 Challenge'\n",
            "'Copia de Ses03_Practice.ipynb'      Tarea_regresión.ipynb\n",
            "'Evidencia_Machine Learning.ipynb'   Valhalla23.csv\n"
          ]
        }
      ]
    },
    {
      "cell_type": "code",
      "source": [
        "import pandas as pd\n",
        "import numpy as np\n",
        "import matplotlib.pyplot as plt"
      ],
      "metadata": {
        "id": "FUIgYgKCurud"
      },
      "execution_count": 5,
      "outputs": []
    },
    {
      "cell_type": "code",
      "source": [
        "# Ingresar datos\n",
        "columns = ['Class','Alcohol', 'Malic acid', 'Ash',' Alcalinity of ash ','Magnesium','Total phenols','Flavanoids','Nonflavanoid phenols','Proanthocyanins','Color intensity','Hue','OD280/OD315 of diluted wines','Proline']\n",
        "df = pd.read_csv('wine.data',names = columns)\n",
        "df.head()"
      ],
      "metadata": {
        "colab": {
          "base_uri": "https://localhost:8080/",
          "height": 268
        },
        "id": "-BtZF-xJuwzb",
        "outputId": "59f7c28d-1773-44a4-b8c7-99c8c3b12e48"
      },
      "execution_count": 7,
      "outputs": [
        {
          "output_type": "execute_result",
          "data": {
            "text/plain": [
              "   Class  Alcohol  Malic acid   Ash   Alcalinity of ash   Magnesium  \\\n",
              "0      1    14.23        1.71  2.43                 15.6        127   \n",
              "1      1    13.20        1.78  2.14                 11.2        100   \n",
              "2      1    13.16        2.36  2.67                 18.6        101   \n",
              "3      1    14.37        1.95  2.50                 16.8        113   \n",
              "4      1    13.24        2.59  2.87                 21.0        118   \n",
              "\n",
              "   Total phenols  Flavanoids  Nonflavanoid phenols  Proanthocyanins  \\\n",
              "0           2.80        3.06                  0.28             2.29   \n",
              "1           2.65        2.76                  0.26             1.28   \n",
              "2           2.80        3.24                  0.30             2.81   \n",
              "3           3.85        3.49                  0.24             2.18   \n",
              "4           2.80        2.69                  0.39             1.82   \n",
              "\n",
              "   Color intensity   Hue  OD280/OD315 of diluted wines  Proline  \n",
              "0             5.64  1.04                          3.92     1065  \n",
              "1             4.38  1.05                          3.40     1050  \n",
              "2             5.68  1.03                          3.17     1185  \n",
              "3             7.80  0.86                          3.45     1480  \n",
              "4             4.32  1.04                          2.93      735  "
            ],
            "text/html": [
              "\n",
              "  <div id=\"df-0197be18-ef4b-475f-a6f0-7813eae8fc35\">\n",
              "    <div class=\"colab-df-container\">\n",
              "      <div>\n",
              "<style scoped>\n",
              "    .dataframe tbody tr th:only-of-type {\n",
              "        vertical-align: middle;\n",
              "    }\n",
              "\n",
              "    .dataframe tbody tr th {\n",
              "        vertical-align: top;\n",
              "    }\n",
              "\n",
              "    .dataframe thead th {\n",
              "        text-align: right;\n",
              "    }\n",
              "</style>\n",
              "<table border=\"1\" class=\"dataframe\">\n",
              "  <thead>\n",
              "    <tr style=\"text-align: right;\">\n",
              "      <th></th>\n",
              "      <th>Class</th>\n",
              "      <th>Alcohol</th>\n",
              "      <th>Malic acid</th>\n",
              "      <th>Ash</th>\n",
              "      <th>Alcalinity of ash</th>\n",
              "      <th>Magnesium</th>\n",
              "      <th>Total phenols</th>\n",
              "      <th>Flavanoids</th>\n",
              "      <th>Nonflavanoid phenols</th>\n",
              "      <th>Proanthocyanins</th>\n",
              "      <th>Color intensity</th>\n",
              "      <th>Hue</th>\n",
              "      <th>OD280/OD315 of diluted wines</th>\n",
              "      <th>Proline</th>\n",
              "    </tr>\n",
              "  </thead>\n",
              "  <tbody>\n",
              "    <tr>\n",
              "      <th>0</th>\n",
              "      <td>1</td>\n",
              "      <td>14.23</td>\n",
              "      <td>1.71</td>\n",
              "      <td>2.43</td>\n",
              "      <td>15.6</td>\n",
              "      <td>127</td>\n",
              "      <td>2.80</td>\n",
              "      <td>3.06</td>\n",
              "      <td>0.28</td>\n",
              "      <td>2.29</td>\n",
              "      <td>5.64</td>\n",
              "      <td>1.04</td>\n",
              "      <td>3.92</td>\n",
              "      <td>1065</td>\n",
              "    </tr>\n",
              "    <tr>\n",
              "      <th>1</th>\n",
              "      <td>1</td>\n",
              "      <td>13.20</td>\n",
              "      <td>1.78</td>\n",
              "      <td>2.14</td>\n",
              "      <td>11.2</td>\n",
              "      <td>100</td>\n",
              "      <td>2.65</td>\n",
              "      <td>2.76</td>\n",
              "      <td>0.26</td>\n",
              "      <td>1.28</td>\n",
              "      <td>4.38</td>\n",
              "      <td>1.05</td>\n",
              "      <td>3.40</td>\n",
              "      <td>1050</td>\n",
              "    </tr>\n",
              "    <tr>\n",
              "      <th>2</th>\n",
              "      <td>1</td>\n",
              "      <td>13.16</td>\n",
              "      <td>2.36</td>\n",
              "      <td>2.67</td>\n",
              "      <td>18.6</td>\n",
              "      <td>101</td>\n",
              "      <td>2.80</td>\n",
              "      <td>3.24</td>\n",
              "      <td>0.30</td>\n",
              "      <td>2.81</td>\n",
              "      <td>5.68</td>\n",
              "      <td>1.03</td>\n",
              "      <td>3.17</td>\n",
              "      <td>1185</td>\n",
              "    </tr>\n",
              "    <tr>\n",
              "      <th>3</th>\n",
              "      <td>1</td>\n",
              "      <td>14.37</td>\n",
              "      <td>1.95</td>\n",
              "      <td>2.50</td>\n",
              "      <td>16.8</td>\n",
              "      <td>113</td>\n",
              "      <td>3.85</td>\n",
              "      <td>3.49</td>\n",
              "      <td>0.24</td>\n",
              "      <td>2.18</td>\n",
              "      <td>7.80</td>\n",
              "      <td>0.86</td>\n",
              "      <td>3.45</td>\n",
              "      <td>1480</td>\n",
              "    </tr>\n",
              "    <tr>\n",
              "      <th>4</th>\n",
              "      <td>1</td>\n",
              "      <td>13.24</td>\n",
              "      <td>2.59</td>\n",
              "      <td>2.87</td>\n",
              "      <td>21.0</td>\n",
              "      <td>118</td>\n",
              "      <td>2.80</td>\n",
              "      <td>2.69</td>\n",
              "      <td>0.39</td>\n",
              "      <td>1.82</td>\n",
              "      <td>4.32</td>\n",
              "      <td>1.04</td>\n",
              "      <td>2.93</td>\n",
              "      <td>735</td>\n",
              "    </tr>\n",
              "  </tbody>\n",
              "</table>\n",
              "</div>\n",
              "      <button class=\"colab-df-convert\" onclick=\"convertToInteractive('df-0197be18-ef4b-475f-a6f0-7813eae8fc35')\"\n",
              "              title=\"Convert this dataframe to an interactive table.\"\n",
              "              style=\"display:none;\">\n",
              "        \n",
              "  <svg xmlns=\"http://www.w3.org/2000/svg\" height=\"24px\"viewBox=\"0 0 24 24\"\n",
              "       width=\"24px\">\n",
              "    <path d=\"M0 0h24v24H0V0z\" fill=\"none\"/>\n",
              "    <path d=\"M18.56 5.44l.94 2.06.94-2.06 2.06-.94-2.06-.94-.94-2.06-.94 2.06-2.06.94zm-11 1L8.5 8.5l.94-2.06 2.06-.94-2.06-.94L8.5 2.5l-.94 2.06-2.06.94zm10 10l.94 2.06.94-2.06 2.06-.94-2.06-.94-.94-2.06-.94 2.06-2.06.94z\"/><path d=\"M17.41 7.96l-1.37-1.37c-.4-.4-.92-.59-1.43-.59-.52 0-1.04.2-1.43.59L10.3 9.45l-7.72 7.72c-.78.78-.78 2.05 0 2.83L4 21.41c.39.39.9.59 1.41.59.51 0 1.02-.2 1.41-.59l7.78-7.78 2.81-2.81c.8-.78.8-2.07 0-2.86zM5.41 20L4 18.59l7.72-7.72 1.47 1.35L5.41 20z\"/>\n",
              "  </svg>\n",
              "      </button>\n",
              "      \n",
              "  <style>\n",
              "    .colab-df-container {\n",
              "      display:flex;\n",
              "      flex-wrap:wrap;\n",
              "      gap: 12px;\n",
              "    }\n",
              "\n",
              "    .colab-df-convert {\n",
              "      background-color: #E8F0FE;\n",
              "      border: none;\n",
              "      border-radius: 50%;\n",
              "      cursor: pointer;\n",
              "      display: none;\n",
              "      fill: #1967D2;\n",
              "      height: 32px;\n",
              "      padding: 0 0 0 0;\n",
              "      width: 32px;\n",
              "    }\n",
              "\n",
              "    .colab-df-convert:hover {\n",
              "      background-color: #E2EBFA;\n",
              "      box-shadow: 0px 1px 2px rgba(60, 64, 67, 0.3), 0px 1px 3px 1px rgba(60, 64, 67, 0.15);\n",
              "      fill: #174EA6;\n",
              "    }\n",
              "\n",
              "    [theme=dark] .colab-df-convert {\n",
              "      background-color: #3B4455;\n",
              "      fill: #D2E3FC;\n",
              "    }\n",
              "\n",
              "    [theme=dark] .colab-df-convert:hover {\n",
              "      background-color: #434B5C;\n",
              "      box-shadow: 0px 1px 3px 1px rgba(0, 0, 0, 0.15);\n",
              "      filter: drop-shadow(0px 1px 2px rgba(0, 0, 0, 0.3));\n",
              "      fill: #FFFFFF;\n",
              "    }\n",
              "  </style>\n",
              "\n",
              "      <script>\n",
              "        const buttonEl =\n",
              "          document.querySelector('#df-0197be18-ef4b-475f-a6f0-7813eae8fc35 button.colab-df-convert');\n",
              "        buttonEl.style.display =\n",
              "          google.colab.kernel.accessAllowed ? 'block' : 'none';\n",
              "\n",
              "        async function convertToInteractive(key) {\n",
              "          const element = document.querySelector('#df-0197be18-ef4b-475f-a6f0-7813eae8fc35');\n",
              "          const dataTable =\n",
              "            await google.colab.kernel.invokeFunction('convertToInteractive',\n",
              "                                                     [key], {});\n",
              "          if (!dataTable) return;\n",
              "\n",
              "          const docLinkHtml = 'Like what you see? Visit the ' +\n",
              "            '<a target=\"_blank\" href=https://colab.research.google.com/notebooks/data_table.ipynb>data table notebook</a>'\n",
              "            + ' to learn more about interactive tables.';\n",
              "          element.innerHTML = '';\n",
              "          dataTable['output_type'] = 'display_data';\n",
              "          await google.colab.output.renderOutput(dataTable, element);\n",
              "          const docLink = document.createElement('div');\n",
              "          docLink.innerHTML = docLinkHtml;\n",
              "          element.appendChild(docLink);\n",
              "        }\n",
              "      </script>\n",
              "    </div>\n",
              "  </div>\n",
              "  "
            ]
          },
          "metadata": {},
          "execution_count": 7
        }
      ]
    },
    {
      "cell_type": "code",
      "source": [
        "n1 = len(df)\n",
        "print(n1)"
      ],
      "metadata": {
        "colab": {
          "base_uri": "https://localhost:8080/"
        },
        "id": "ho8vno301mct",
        "outputId": "64cf6720-6468-4c8e-e38e-dcbef9bb26d2"
      },
      "execution_count": 19,
      "outputs": [
        {
          "output_type": "stream",
          "name": "stdout",
          "text": [
            "178\n"
          ]
        }
      ]
    },
    {
      "cell_type": "markdown",
      "source": [
        "## Preliminaries \n",
        "\n",
        "Dataset (train, validate)\n",
        "Hyper-parameters (alpha, theta_initial)\n",
        "Functions (hypothesis, cost function)"
      ],
      "metadata": {
        "id": "mUan5kXlymLA"
      }
    },
    {
      "cell_type": "code",
      "source": [
        "x_train = df['Alcohol'][0:100]\n",
        "x2_train = df['Malic acid'][0:100]\n",
        "y_train = df['Ash'][0:100]\n",
        "\n",
        "x_validate = df['Alcohol'][100:n1]\n",
        "y_validate = df['Malic acid'][100:n1]\n",
        "x2_validate = df['Ash'][100:n1]\n",
        "\n",
        "alpha = 0.00001 \n",
        "\n",
        "n_train = len(y_train)"
      ],
      "metadata": {
        "id": "ZlpBoXBWwhdU"
      },
      "execution_count": 29,
      "outputs": []
    },
    {
      "cell_type": "code",
      "source": [
        "theta = [1,1,0.01] # Agregar un elemento \n",
        "\n",
        "h2 = lambda x,theta,x2: theta[0]+theta[1]*x+theta[2]*x2\n",
        "alpha = 0.000000001\n",
        "\n",
        "for idx in range(100000):\n",
        "  acumDelta = []\n",
        "  acumDeltaX = []\n",
        "  acumDeltaX2 = []\n",
        "  for x_i, y_i, x2_i in zip(x_train,y_train,x2_train): # Agregar la nueva dimensión\n",
        "    acumDelta.append(h2(x_i,theta,x2_i)-y_i)\n",
        "    acumDeltaX.append((h2(x_i,theta,x2_i)-y_i)*x_i)    \n",
        "    acumDeltaX2.append((h2(x_i,theta,x2_i)-y_i)*x2_i) # Acumular para el nuevo theta    \n",
        "\n",
        "  sJt0 = sum(acumDelta)  \n",
        "  sJt1 = sum(acumDeltaX)\n",
        "  sJt2 = sum(acumDeltaX2)\n",
        "  theta[0] = theta[0]-alpha/n_train*sJt0\n",
        "  theta[1] = theta[1]-alpha/n_train*sJt1\n",
        "  theta[2] = theta[2]-alpha/n_train*sJt2 # ACtualizar el nuevo theta\n",
        "\n",
        "print(theta)"
      ],
      "metadata": {
        "colab": {
          "base_uri": "https://localhost:8080/"
        },
        "id": "a7WwJPvrz6Jw",
        "outputId": "ac574258-6bb0-4ac9-8572-d917cbae3d6b"
      },
      "execution_count": 30,
      "outputs": [
        {
          "output_type": "stream",
          "name": "stdout",
          "text": [
            "[0.9988248204560674, 0.9844281735162478, 0.007822769110739165]\n"
          ]
        }
      ]
    },
    {
      "cell_type": "code",
      "source": [
        "n_train = len(y_train)\n",
        "n_validate = len(y_validate)\n",
        "\n",
        "\n",
        "j2_i = lambda x,y,theta,x2: (h2(x,theta,x2)-y)**2\n",
        "\n",
        "# Validación\n",
        "acumDelta = []\n",
        "for x_i, y_i,x2_i in zip(x_validate,y_validate,x2_validate):\n",
        "  acumDelta.append(j2_i(x_i,y_i,theta,x2_i))  \n",
        "\n",
        "sDelta = sum(acumDelta)  \n",
        "J_validate = 1/(2*n_validate)*sDelta\n",
        "\n",
        "\n",
        "# Training\n",
        "acumDelta = []\n",
        "for x_i, y_i,x2_i in zip(x_train,y_train,x2_train):\n",
        "  acumDelta.append(j2_i(x_i,y_i,theta,x2_i))  \n",
        "\n",
        "sDelta = sum(acumDelta)  \n",
        "J_train = 1/(2*n_train)*sDelta\n",
        "\n",
        "\n",
        "print(J_validate)\n",
        "print(J_train)\n",
        "print(theta)"
      ],
      "metadata": {
        "colab": {
          "base_uri": "https://localhost:8080/"
        },
        "id": "auYpuLPi0tXF",
        "outputId": "0f4b5c14-4e7a-4d90-b8ba-983405d3ffb4"
      },
      "execution_count": 31,
      "outputs": [
        {
          "output_type": "stream",
          "name": "stdout",
          "text": [
            "56.846280547310144\n",
            "68.13294707731912\n",
            "[0.9988248204560674, 0.9844281735162478, 0.007822769110739165]\n"
          ]
        }
      ]
    },
    {
      "cell_type": "code",
      "source": [
        "print(\"Nuestro modelo de predicción: z = \",theta[1],\" x + \",theta[2],\" y + \",theta[0])"
      ],
      "metadata": {
        "colab": {
          "base_uri": "https://localhost:8080/"
        },
        "id": "bSmKL5fh6oih",
        "outputId": "c09f3df3-7091-4171-a6a8-a7ee2a386e9b"
      },
      "execution_count": 32,
      "outputs": [
        {
          "output_type": "stream",
          "name": "stdout",
          "text": [
            "Nuestro modelo: z =  0.9844281735162478  x +  0.007822769110739165  y +  0.9988248204560674\n"
          ]
        }
      ]
    },
    {
      "cell_type": "markdown",
      "source": [
        "## Predicciones\n",
        "Ya teniendo nuestro modelo, podemos realizar predicciones un conjunto de datos arbitrarios. "
      ],
      "metadata": {
        "id": "QhexB4Wc7hNT"
      }
    },
    {
      "cell_type": "code",
      "source": [
        "XX = np.linspace(min(df['Alcohol']),max(df['Alcohol']),num = 10)\n",
        "YY = np.linspace(min(df['Malic acid']),max(df['Malic acid']),num = 10)\n",
        "ZZ = [] #np.array([XX, YY, np.zeros(10)]).T\n",
        "#print(ZZ.shape)\n"
      ],
      "metadata": {
        "id": "3HNprTN67buR"
      },
      "execution_count": 69,
      "outputs": []
    },
    {
      "cell_type": "code",
      "source": [
        "for i in range(len(YY)):\n",
        "  ZZ.append(h2(XX[i],theta,YY[i]))"
      ],
      "metadata": {
        "id": "S62SOcS-fq6h"
      },
      "execution_count": 70,
      "outputs": []
    },
    {
      "cell_type": "code",
      "source": [
        "print(ZZ)"
      ],
      "metadata": {
        "colab": {
          "base_uri": "https://localhost:8080/"
        },
        "id": "H7Cnw9SK_W0K",
        "outputId": "7ed16037-5dde-4d32-d896-2f8cd4b2d595"
      },
      "execution_count": 73,
      "outputs": [
        {
          "output_type": "stream",
          "name": "stdout",
          "text": [
            "[11.862856423482226, 12.28290200915579, 12.702947594829356, 13.12299318050292, 13.543038766176485, 13.963084351850052, 14.383129937523615, 14.80317552319718, 15.223221108870744, 15.643266694544307]\n"
          ]
        }
      ]
    }
  ]
}