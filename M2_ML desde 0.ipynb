{
 "cells": [
  {
   "cell_type": "code",
   "execution_count": 223,
   "id": "1a3a93ba",
   "metadata": {},
   "outputs": [],
   "source": [
    "# LIBRERÍAS\n",
    "import pandas as pd\n",
    "import seaborn as sns\n",
    "import numpy as np\n",
    "import matplotlib.pyplot as plt\n",
    "from sklearn.model_selection import train_test_split"
   ]
  },
  {
   "cell_type": "code",
   "execution_count": 240,
   "id": "2ef212ad",
   "metadata": {},
   "outputs": [],
   "source": [
    "# Importar datos\n",
    "#columns = [\"Class\", \"Alcohol\", \"Malic acid\", \"Ash\", \"Alcalinity of ash\", \"Magnesium\", \"Total phenols\", \"Flavanoids\", \"Nonflavanoid phenols\", \"Proanthocyanins\",\"Color intensity\",\"Hue\", \"OD280/OD315\", \"Proline\"]\n",
    "#df = \n",
    "#df = pd.read_csv('wine.data',names = columns)\n",
    "df = pd.read_csv('Salary_Data.csv')"
   ]
  },
  {
   "cell_type": "code",
   "execution_count": 241,
   "id": "e8c97d07",
   "metadata": {},
   "outputs": [
    {
     "data": {
      "text/plain": [
       "(30, 2)"
      ]
     },
     "execution_count": 241,
     "metadata": {},
     "output_type": "execute_result"
    }
   ],
   "source": [
    "df.shape"
   ]
  },
  {
   "cell_type": "code",
   "execution_count": 242,
   "id": "ec0ff6f1",
   "metadata": {
    "scrolled": true
   },
   "outputs": [
    {
     "data": {
      "text/plain": [
       "0"
      ]
     },
     "execution_count": 242,
     "metadata": {},
     "output_type": "execute_result"
    }
   ],
   "source": [
    "# Observar si hay NaNs\n",
    "df.duplicated().sum()"
   ]
  },
  {
   "cell_type": "code",
   "execution_count": 227,
   "id": "bf2a5d20",
   "metadata": {},
   "outputs": [],
   "source": [
    "df = df.dropna()"
   ]
  },
  {
   "cell_type": "code",
   "execution_count": null,
   "id": "9e1090c1",
   "metadata": {},
   "outputs": [],
   "source": []
  },
  {
   "cell_type": "code",
   "execution_count": null,
   "id": "9b3cb1ec",
   "metadata": {},
   "outputs": [],
   "source": []
  },
  {
   "cell_type": "code",
   "execution_count": 228,
   "id": "c4376d7c",
   "metadata": {},
   "outputs": [
    {
     "data": {
      "text/plain": [
       "(5000, 7)"
      ]
     },
     "execution_count": 228,
     "metadata": {},
     "output_type": "execute_result"
    }
   ],
   "source": [
    "df.shape"
   ]
  },
  {
   "cell_type": "code",
   "execution_count": 229,
   "id": "86e06118",
   "metadata": {},
   "outputs": [
    {
     "data": {
      "text/html": [
       "<div>\n",
       "<style scoped>\n",
       "    .dataframe tbody tr th:only-of-type {\n",
       "        vertical-align: middle;\n",
       "    }\n",
       "\n",
       "    .dataframe tbody tr th {\n",
       "        vertical-align: top;\n",
       "    }\n",
       "\n",
       "    .dataframe thead th {\n",
       "        text-align: right;\n",
       "    }\n",
       "</style>\n",
       "<table border=\"1\" class=\"dataframe\">\n",
       "  <thead>\n",
       "    <tr style=\"text-align: right;\">\n",
       "      <th></th>\n",
       "      <th>Avg. Area Income</th>\n",
       "      <th>Avg. Area House Age</th>\n",
       "      <th>Avg. Area Number of Rooms</th>\n",
       "      <th>Avg. Area Number of Bedrooms</th>\n",
       "      <th>Area Population</th>\n",
       "      <th>Price</th>\n",
       "      <th>Address</th>\n",
       "    </tr>\n",
       "  </thead>\n",
       "  <tbody>\n",
       "    <tr>\n",
       "      <th>0</th>\n",
       "      <td>79545.458574</td>\n",
       "      <td>5.682861</td>\n",
       "      <td>7.009188</td>\n",
       "      <td>4.09</td>\n",
       "      <td>23086.800503</td>\n",
       "      <td>1.059034e+06</td>\n",
       "      <td>208 Michael Ferry Apt. 674\\nLaurabury, NE 3701...</td>\n",
       "    </tr>\n",
       "    <tr>\n",
       "      <th>1</th>\n",
       "      <td>79248.642455</td>\n",
       "      <td>6.002900</td>\n",
       "      <td>6.730821</td>\n",
       "      <td>3.09</td>\n",
       "      <td>40173.072174</td>\n",
       "      <td>1.505891e+06</td>\n",
       "      <td>188 Johnson Views Suite 079\\nLake Kathleen, CA...</td>\n",
       "    </tr>\n",
       "    <tr>\n",
       "      <th>2</th>\n",
       "      <td>61287.067179</td>\n",
       "      <td>5.865890</td>\n",
       "      <td>8.512727</td>\n",
       "      <td>5.13</td>\n",
       "      <td>36882.159400</td>\n",
       "      <td>1.058988e+06</td>\n",
       "      <td>9127 Elizabeth Stravenue\\nDanieltown, WI 06482...</td>\n",
       "    </tr>\n",
       "    <tr>\n",
       "      <th>3</th>\n",
       "      <td>63345.240046</td>\n",
       "      <td>7.188236</td>\n",
       "      <td>5.586729</td>\n",
       "      <td>3.26</td>\n",
       "      <td>34310.242831</td>\n",
       "      <td>1.260617e+06</td>\n",
       "      <td>USS Barnett\\nFPO AP 44820</td>\n",
       "    </tr>\n",
       "    <tr>\n",
       "      <th>4</th>\n",
       "      <td>59982.197226</td>\n",
       "      <td>5.040555</td>\n",
       "      <td>7.839388</td>\n",
       "      <td>4.23</td>\n",
       "      <td>26354.109472</td>\n",
       "      <td>6.309435e+05</td>\n",
       "      <td>USNS Raymond\\nFPO AE 09386</td>\n",
       "    </tr>\n",
       "  </tbody>\n",
       "</table>\n",
       "</div>"
      ],
      "text/plain": [
       "   Avg. Area Income  Avg. Area House Age  Avg. Area Number of Rooms  \\\n",
       "0      79545.458574             5.682861                   7.009188   \n",
       "1      79248.642455             6.002900                   6.730821   \n",
       "2      61287.067179             5.865890                   8.512727   \n",
       "3      63345.240046             7.188236                   5.586729   \n",
       "4      59982.197226             5.040555                   7.839388   \n",
       "\n",
       "   Avg. Area Number of Bedrooms  Area Population         Price  \\\n",
       "0                          4.09     23086.800503  1.059034e+06   \n",
       "1                          3.09     40173.072174  1.505891e+06   \n",
       "2                          5.13     36882.159400  1.058988e+06   \n",
       "3                          3.26     34310.242831  1.260617e+06   \n",
       "4                          4.23     26354.109472  6.309435e+05   \n",
       "\n",
       "                                             Address  \n",
       "0  208 Michael Ferry Apt. 674\\nLaurabury, NE 3701...  \n",
       "1  188 Johnson Views Suite 079\\nLake Kathleen, CA...  \n",
       "2  9127 Elizabeth Stravenue\\nDanieltown, WI 06482...  \n",
       "3                          USS Barnett\\nFPO AP 44820  \n",
       "4                         USNS Raymond\\nFPO AE 09386  "
      ]
     },
     "execution_count": 229,
     "metadata": {},
     "output_type": "execute_result"
    }
   ],
   "source": [
    "df.head()"
   ]
  },
  {
   "cell_type": "code",
   "execution_count": 262,
   "id": "64d79f50",
   "metadata": {},
   "outputs": [],
   "source": [
    "# Realizamos un scatterplot para todos los variables.\n",
    "# Para observar cuál de los datos se asimilan más a un comportamiento lineal con menor dispersidad. \n",
    "#pd.plotting.scatter_matrix(df,figsize = (30,30))"
   ]
  },
  {
   "cell_type": "code",
   "execution_count": 244,
   "id": "cd0e8d99",
   "metadata": {},
   "outputs": [
    {
     "data": {
      "text/plain": [
       "<AxesSubplot:xlabel='YearsExperience', ylabel='Salary'>"
      ]
     },
     "execution_count": 244,
     "metadata": {},
     "output_type": "execute_result"
    },
    {
     "data": {
      "image/png": "[encoded data removed]",
      "text/plain": [
       "<Figure size 432x288 with 1 Axes>"
      ]
     },
     "metadata": {
      "needs_background": "light"
     },
     "output_type": "display_data"
    }
   ],
   "source": [
    "# Visualizamos los datos con un scatterplot\n",
    "# Para observar cuál de los datos se asimilan más a un comportamiento lineal con menor dispersidad. \n",
    "sns.scatterplot(data=df,x='YearsExperience',y='Salary')"
   ]
  },
  {
   "cell_type": "code",
   "execution_count": 245,
   "id": "ccfee675",
   "metadata": {},
   "outputs": [],
   "source": [
    "# Vamos a dividir el df para prueba y entrenamiento\n",
    "df_x = df['YearsExperience']\n",
    "df_y = df['Salary']\n",
    "testp = 0.25\n",
    "seed = 1800\n",
    "\n",
    "x_train,x_test,y_train,y_test = train_test_split(df_x, df_y, test_size = testp)"
   ]
  },
  {
   "cell_type": "code",
   "execution_count": 246,
   "id": "accef2ea",
   "metadata": {},
   "outputs": [
    {
     "data": {
      "text/plain": [
       "(8,)"
      ]
     },
     "execution_count": 246,
     "metadata": {},
     "output_type": "execute_result"
    }
   ],
   "source": [
    "y_test.shape"
   ]
  },
  {
   "cell_type": "code",
   "execution_count": 247,
   "id": "d67a055b",
   "metadata": {},
   "outputs": [
    {
     "data": {
      "text/plain": [
       "[Text(0.5, 1.0, 'Datos de prueba')]"
      ]
     },
     "execution_count": 247,
     "metadata": {},
     "output_type": "execute_result"
    },
    {
     "data": {
      "image/png": "[encoded data removed]",
      "text/plain": [
       "<Figure size 1440x720 with 2 Axes>"
      ]
     },
     "metadata": {
      "needs_background": "light"
     },
     "output_type": "display_data"
    }
   ],
   "source": [
    "# Visualización de los datos de entrenamiento y prueba\n",
    "fig,ax = plt.subplots(1,2,figsize=(20,10))\n",
    "sns.scatterplot(x = x_train, y = y_train,ax=ax[0]).set(title = 'Datos de entrenamiento')\n",
    "sns.scatterplot(x = x_test, y= y_test,ax=ax[1]).set(title = 'Datos de prueba')"
   ]
  },
  {
   "cell_type": "code",
   "execution_count": 258,
   "id": "dffcba3f",
   "metadata": {},
   "outputs": [],
   "source": [
    "# Hipótesis (entrenamiento y error)\n",
    "h = lambda x, theta: theta[0] + theta[1]*x\n",
    "j_i = lambda x, y, theta: (h(x, theta) - y)**2 \n",
    "\n",
    "# Parametros\n",
    "alpha = 0.01\n",
    "n = 10000\n",
    "theta = [1.5, 0.1]"
   ]
  },
  {
   "cell_type": "code",
   "execution_count": 259,
   "id": "728d3ccd",
   "metadata": {},
   "outputs": [
    {
     "name": "stdout",
     "output_type": "stream",
     "text": [
      "[3094.2036432835457, 12823.624153058485]\n"
     ]
    }
   ],
   "source": [
    "# Entrenamiento\n",
    "for i in range(n):\n",
    "  delta = []\n",
    "  deltax = []\n",
    "\n",
    "  for x_i, y_i in zip(x_train, y_train):\n",
    "    delta.append(h(x_i, theta) - y_i)\n",
    "    deltax.append((h(x_i, theta) - y_i)*x_i)\n",
    "\n",
    "  # Thetas\n",
    "  theta[0] = theta[0] - alpha/n*sum(delta)\n",
    "  theta[1] = theta[1] - alpha/n*sum(deltax)\n",
    "\n",
    "print(theta)"
   ]
  },
  {
   "cell_type": "code",
   "execution_count": 260,
   "id": "26148145",
   "metadata": {},
   "outputs": [
    {
     "name": "stdout",
     "output_type": "stream",
     "text": [
      "Error en el train: 190472.32814793618\n",
      "Error en el test: 23511.982802373524\n",
      "Valores de las thetas [3094.2036432835457, 12823.624153058485]\n"
     ]
    }
   ],
   "source": [
    "# Training\n",
    "delta_train = []\n",
    "for x_i, y_i in zip(x_train, y_train):\n",
    "  delta_train.append(j_i(x_i, y_i, theta))  \n",
    " \n",
    "J_train = 1/(2*n)*sum(delta_train)\n",
    "\n",
    "# Validación\n",
    "delta_test = []\n",
    "for x_i, y_i in zip(x_test, y_test):\n",
    "  delta_test.append(j_i(x_i, y_i, theta))  \n",
    " \n",
    "J_test = 1/(2*n)*sum(delta_test)\n",
    "\n",
    "print(\"Error en el train:\", J_train)\n",
    "print(\"Error en el test:\", J_test)\n",
    "print(\"Valores de las thetas\", theta)"
   ]
  },
  {
   "cell_type": "code",
   "execution_count": null,
   "id": "90dc3672",
   "metadata": {},
   "outputs": [],
   "source": []
  },
  {
   "cell_type": "code",
   "execution_count": 261,
   "id": "ac9ad862",
   "metadata": {},
   "outputs": [
    {
     "data": {
      "image/png": "[encoded data removed]",
      "text/plain": [
       "<Figure size 432x288 with 1 Axes>"
      ]
     },
     "metadata": {
      "needs_background": "light"
     },
     "output_type": "display_data"
    }
   ],
   "source": [
    "plt.scatter(df['YearsExperience'], df['Salary'])\n",
    "plt.plot(x_test, theta[0] + theta[1]*x_test, 'r')\n",
    "plt.title(\"Regresión Lineal sobre \")\n",
    "plt.xlabel(\"Años de Experience\")\n",
    "plt.ylabel(\"Salario\")\n",
    "plt.show()"
   ]
  },
  {
   "cell_type": "code",
   "execution_count": 279,
   "id": "ee2c5645",
   "metadata": {},
   "outputs": [
    {
     "name": "stdout",
     "output_type": "stream",
     "text": [
      "El coeficiente de determinación es de: 0.9875928586744418\n",
      "El error cuadratico medio es de: 58779957.00593381\n"
     ]
    }
   ],
   "source": [
    "# Realizar predicciones con nuestras thetas respectivas \n",
    "y_pred = theta[0]+theta[1]*x_test\n",
    "\n",
    "# Coeficiente de determinación\n",
    "c_mat = np.corrcoef(y_test, y_pred)\n",
    "CoD = c_mat[0,1]\n",
    "CoD = CoD**2\n",
    "print(\"El coeficiente de determinación es de:\", CoD)\n",
    "\n",
    "#MSE Mean Squared Error \n",
    "MSE = np.square(np.subtract(y_test, y_pred)).mean()\n",
    "print(\"El error cuadratico medio es de:\", MSE)"
   ]
  },
  {
   "cell_type": "code",
   "execution_count": 265,
   "id": "03375287",
   "metadata": {},
   "outputs": [
    {
     "name": "stderr",
     "output_type": "stream",
     "text": [
      "/Users/camilacusicanqui/opt/anaconda3/lib/python3.9/site-packages/seaborn/distributions.py:2619: FutureWarning: `distplot` is a deprecated function and will be removed in a future version. Please adapt your code to use either `displot` (a figure-level function with similar flexibility) or `histplot` (an axes-level function for histograms).\n",
      "  warnings.warn(msg, FutureWarning)\n",
      "/Users/camilacusicanqui/opt/anaconda3/lib/python3.9/site-packages/seaborn/distributions.py:2619: FutureWarning: `distplot` is a deprecated function and will be removed in a future version. Please adapt your code to use either `displot` (a figure-level function with similar flexibility) or `histplot` (an axes-level function for histograms).\n",
      "  warnings.warn(msg, FutureWarning)\n"
     ]
    },
    {
     "data": {
      "image/png": "[encoded data removed]",
      "text/plain": [
       "<Figure size 1440x720 with 2 Axes>"
      ]
     },
     "metadata": {
      "needs_background": "light"
     },
     "output_type": "display_data"
    }
   ],
   "source": [
    "# Como podemos observar tenemos un muy buen coeficiente de determinación, es decir, nuestro modelo de regresión lineal. \n",
    "\n",
    "# Originalmente nuestros datos de las ventas se comportan de la siguiente manera\n",
    "\n",
    "fig,ax = plt.subplots(1,2,figsize=(20,10))\n",
    "sns.distplot(df[\"Salary\"],ax = ax[0])\n",
    "plt.title(\"Distribución de las ventas \")\n",
    "plt.xlabel(\"Ventas\")\n",
    "\n",
    "sns.distplot(y_pred,ax = ax[1])\n",
    "plt.title(\"Distribución de las ventas predecidas\")\n",
    "plt.xlabel(\"Ventas\")\n",
    "plt.show()"
   ]
  },
  {
   "cell_type": "code",
   "execution_count": 266,
   "id": "b7b59c5f",
   "metadata": {},
   "outputs": [],
   "source": [
    "# Observamos un comportamiento similar en las dos gráficas. \n",
    "# Ambas presentan dos picos donde el de la izquierda es más pronunciada.\n",
    "# Sin embargo, los picos de la predicción de ventas están desplazados hacia la derecha. \n",
    "# Es decir, presenta un sesgo negativa. "
   ]
  },
  {
   "cell_type": "code",
   "execution_count": 267,
   "id": "9c357058",
   "metadata": {},
   "outputs": [],
   "source": [
    "from statistics import variance"
   ]
  },
  {
   "cell_type": "code",
   "execution_count": 268,
   "id": "6e867063",
   "metadata": {},
   "outputs": [
    {
     "name": "stdout",
     "output_type": "stream",
     "text": [
      "La varianza de y prueba es 751550960.4137931\n",
      "La varianza de y modelo es 1188704860.3995128\n"
     ]
    }
   ],
   "source": [
    "print(\"La varianza de y prueba es \" + str(variance(df[\"Salary\"])))\n",
    "print(\"La varianza de y modelo es \" + str(variance(y_pred)))"
   ]
  },
  {
   "cell_type": "code",
   "execution_count": null,
   "id": "b73fb150",
   "metadata": {},
   "outputs": [],
   "source": [
    "#Como podemos observar la varianza del modelo es mayor a la varianza de la y de prueba. \n",
    "# La y predecida se dispersa más que la y de nuestra prueba."
   ]
  },
  {
   "cell_type": "code",
   "execution_count": 269,
   "id": "55bf8004",
   "metadata": {},
   "outputs": [],
   "source": [
    "# Underfitting o Overfitting\n",
    "from sklearn.linear_model import LinearRegression\n",
    "from sklearn.model_selection import learning_curve"
   ]
  },
  {
   "cell_type": "markdown",
   "id": "2f54fca1",
   "metadata": {},
   "source": [
    "model = LinearRegression()"
   ]
  },
  {
   "cell_type": "code",
   "execution_count": 273,
   "id": "6f1c90d0",
   "metadata": {},
   "outputs": [],
   "source": [
    "model = LinearRegression()"
   ]
  },
  {
   "cell_type": "code",
   "execution_count": 280,
   "id": "7c957aea",
   "metadata": {},
   "outputs": [
    {
     "name": "stdout",
     "output_type": "stream",
     "text": [
      "El error cuadratico medio es de: 173156661.95266923\n",
      "El coeficiente de determinación es de: 0.9551567153288066\n"
     ]
    }
   ],
   "source": [
    "# Para observar si tenemos underfitting o overfitting utilizaremos\n",
    "# Queremos observar el learning curve de nuestro modelo \n",
    "y_pred = theta[0]+theta[1]*x_train\n",
    "MSE = np.square(np.subtract(y_train, y_pred)).mean()\n",
    "print(\"El error cuadratico medio es de:\", MSE)\n",
    "# Coeficiente de determinación\n",
    "c_mat = np.corrcoef(y_train, y_pred)\n",
    "CoD = c_mat[0,1]\n",
    "CoD = CoD**2\n",
    "print(\"El coeficiente de determinación es de:\", CoD)"
   ]
  },
  {
   "cell_type": "code",
   "execution_count": null,
   "id": "45cdcf42",
   "metadata": {},
   "outputs": [],
   "source": []
  }
 ],
 "metadata": {
  "kernelspec": {
   "display_name": "Python 3 (ipykernel)",
   "language": "python",
   "name": "python3"
  },
  "language_info": {
   "codemirror_mode": {
    "name": "ipython",
    "version": 3
   },
   "file_extension": ".py",
   "mimetype": "text/x-python",
   "name": "python",
   "nbconvert_exporter": "python",
   "pygments_lexer": "ipython3",
   "version": "3.9.12"
  }
 },
 "nbformat": 4,
 "nbformat_minor": 5
}
